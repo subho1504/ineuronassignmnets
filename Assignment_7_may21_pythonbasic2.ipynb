{
 "cells": [
  {
   "cell_type": "code",
   "execution_count": 12,
   "id": "6683da15",
   "metadata": {},
   "outputs": [
    {
     "name": "stdout",
     "output_type": "stream",
     "text": [
      "First variable is  50 Second variable is  10\n",
      "Addition:  50 + 10 = 60\n",
      "Subtraction:  50 - 10 = 40\n",
      "Multiplicaiton:  50 * 10 = 500\n",
      "Division:  50 / 10 = 5.0\n"
     ]
    }
   ],
   "source": [
    "a =int(50)\n",
    "\n",
    "b =int (10)\n",
    "\n",
    "add = a+b\n",
    "sub = a-b\n",
    "div = a/b\n",
    "mul = a*b\n",
    "print(\"First variable is \", a , \"Second variable is \", b  )\n",
    "print(\"Addition: \", a , \"+\", b , \"=\" , add)\n",
    "print(\"Subtraction: \", a , \"-\", b , \"=\" , sub)\n",
    "print(\"Multiplicaiton: \", a , \"*\", b , \"=\" , mul)\n",
    "print(\"Division: \", a , \"/\", b , \"=\" , div)\n",
    "\n"
   ]
  },
  {
   "cell_type": "code",
   "execution_count": null,
   "id": "98baa2a6",
   "metadata": {},
   "outputs": [],
   "source": []
  },
  {
   "cell_type": "markdown",
   "id": "b012d8a5",
   "metadata": {},
   "source": [
    "Q.2. What is the difference between the following operators:\n",
    "\n",
    "(i) ‘/’ & ‘//’ = '/' signifies division and '//' signifies floor division operator\n",
    "\n",
    "(ii) ‘**’ & ‘^’ = '**' signifies power of a number and '^' denotes XOR operator"
   ]
  },
  {
   "cell_type": "markdown",
   "id": "ec017a71",
   "metadata": {},
   "source": [
    "Q.3. List the logical operators.\n",
    "\n",
    "Ans: \n",
    "AND\n",
    "OR\n",
    "NOR\n",
    "XOR"
   ]
  },
  {
   "cell_type": "markdown",
   "id": "bb589df3",
   "metadata": {},
   "source": [
    "Q.4. Explain right shift operator and left shift operator with examples.\n",
    "\n",
    "Ans: \n",
    "Right shift and left shift are bit wise operator. Using Right shift the number is shifted towards right by a specified number of position. Using Left shift the number is shifted towards left by a specified number of position. \n",
    "\n",
    "Examples are provided in the section below\n"
   ]
  },
  {
   "cell_type": "code",
   "execution_count": 27,
   "id": "3b84c720",
   "metadata": {},
   "outputs": [
    {
     "name": "stdout",
     "output_type": "stream",
     "text": [
      "0b1010\n",
      "2\n",
      "binary of result\n",
      "0b10\n"
     ]
    },
    {
     "data": {
      "text/plain": [
       "'\\nthe binary of 10 is 1010. If it is right shift 2 the binary \\nbecomes 0010 and the decimal equivalent of that is 2\\n'"
      ]
     },
     "execution_count": 27,
     "metadata": {},
     "output_type": "execute_result"
    }
   ],
   "source": [
    "a =10\n",
    "print (bin(a))\n",
    "result = a >>2 #right shift\n",
    "print(result)\n",
    "print(\"binary of result\")\n",
    "print(bin(result))\n",
    "\n",
    "\"\"\"\n",
    "the binary of 10 is 1010. If it is right shift 2 the binary \n",
    "becomes 0010 and the decimal equivalent of that is 2\n",
    "\"\"\""
   ]
  },
  {
   "cell_type": "code",
   "execution_count": 29,
   "id": "e34096c4",
   "metadata": {},
   "outputs": [
    {
     "name": "stdout",
     "output_type": "stream",
     "text": [
      "0b1010\n",
      "40\n",
      "binary of result\n",
      "0b101000\n"
     ]
    },
    {
     "data": {
      "text/plain": [
       "'\\nthe binary of 10 is 1010. If it is Left shift 2 the binary \\nbecomes 101000 and the decimal equivalent of that is 40\\n'"
      ]
     },
     "execution_count": 29,
     "metadata": {},
     "output_type": "execute_result"
    }
   ],
   "source": [
    "a =10\n",
    "print (bin(a))\n",
    "result = a << 2 #Left shift\n",
    "print(result)\n",
    "print(\"binary of result\")\n",
    "print(bin(result))\n",
    "\n",
    "\"\"\"\n",
    "the binary of 10 is 1010. If it is Left shift 2 the binary \n",
    "becomes 101000 and the decimal equivalent of that is 40\n",
    "\"\"\""
   ]
  },
  {
   "cell_type": "markdown",
   "id": "32c42001",
   "metadata": {},
   "source": [
    "Q.5. Create a list containing int type data of length 15. Then write a code to check if 10 is\n",
    "present in the list or not.\n"
   ]
  },
  {
   "cell_type": "code",
   "execution_count": 39,
   "id": "bbb49bb5",
   "metadata": {},
   "outputs": [
    {
     "name": "stdout",
     "output_type": "stream",
     "text": [
      "The list is : [0, 3, 6, 'hi', 11, 56, 46, 10, 3423, 'welcome', 100, 555, 'Name', 40, 70, 1000]\n",
      "NUmber is present\n"
     ]
    }
   ],
   "source": [
    "a = [0 ,3,6, \"hi\" , 11, 56, 46, 10, 3423, \"welcome\", 100, 555, \"Name\", 40, 70, 1000]\n",
    "print(\"The list is :\", a)\n",
    "for i in range(0,15,1):\n",
    "    if a[i] == 10:\n",
    "        print(\"NUmber is present\")\n",
    "\n"
   ]
  },
  {
   "cell_type": "code",
   "execution_count": null,
   "id": "c80ce556",
   "metadata": {},
   "outputs": [],
   "source": []
  }
 ],
 "metadata": {
  "kernelspec": {
   "display_name": "Python 3 (ipykernel)",
   "language": "python",
   "name": "python3"
  },
  "language_info": {
   "codemirror_mode": {
    "name": "ipython",
    "version": 3
   },
   "file_extension": ".py",
   "mimetype": "text/x-python",
   "name": "python",
   "nbconvert_exporter": "python",
   "pygments_lexer": "ipython3",
   "version": "3.10.9"
  }
 },
 "nbformat": 4,
 "nbformat_minor": 5
}
