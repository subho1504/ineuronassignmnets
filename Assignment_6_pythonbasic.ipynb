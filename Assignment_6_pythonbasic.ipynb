{
 "cells": [
  {
   "cell_type": "code",
   "execution_count": null,
   "metadata": {
    "id": "6yh5uamKvikx"
   },
   "outputs": [],
   "source": []
  },
  {
   "cell_type": "markdown",
   "metadata": {
    "id": "KUxFmdKbwlSQ"
   },
   "source": [
    "Q.1. What are keywords in python? Using the keyword library, print all the python keywords.\n",
    "\n",
    "Ans: Keywords are the reserved words and it cannot be used as an identifier. They are used to define syntax.\n",
    "\n"
   ]
  },
  {
   "cell_type": "code",
   "execution_count": 1,
   "metadata": {
    "colab": {
     "base_uri": "https://localhost:8080/"
    },
    "id": "nNfCjQqTwtG7",
    "outputId": "d6a5fedb-7535-4863-f38b-935064fd7785"
   },
   "outputs": [
    {
     "name": "stdout",
     "output_type": "stream",
     "text": [
      "['False', 'None', 'True', 'and', 'as', 'assert', 'async', 'await', 'break', 'class', 'continue', 'def', 'del', 'elif', 'else', 'except', 'finally', 'for', 'from', 'global', 'if', 'import', 'in', 'is', 'lambda', 'nonlocal', 'not', 'or', 'pass', 'raise', 'return', 'try', 'while', 'with', 'yield']\n"
     ]
    }
   ],
   "source": [
    "import keyword\n",
    "print (keyword.kwlist)"
   ]
  },
  {
   "cell_type": "code",
   "execution_count": null,
   "metadata": {
    "id": "JqxhbIhLwyp6"
   },
   "outputs": [],
   "source": []
  },
  {
   "cell_type": "markdown",
   "metadata": {
    "id": "FmXnRhkOGewT"
   },
   "source": [
    "2. What are the rules to create variables in python?\n",
    "\n",
    "Ans: \n",
    "1. Variable names in Python should be a combination of letters (a-z, A-Z), \n",
    "   digits (0-9), and underscores (_). \n",
    "    \n",
    "2. Name should start with a letter or an underscore, but cannot start with \n",
    "  a digit.\n",
    "     \n",
    "3.Variable name cannot be a keyword\n",
    "     \n",
    "4.Python is case sensitive so variables with different cases are considered different.\n"
   ]
  },
  {
   "cell_type": "code",
   "execution_count": null,
   "metadata": {
    "id": "mC-4CoiOHL-h"
   },
   "outputs": [],
   "source": []
  },
  {
   "cell_type": "markdown",
   "metadata": {
    "id": "-qVzxsIxHOTR"
   },
   "source": [
    "Q.3. What are the standards and conventions followed for the nomenclature of variables in\n",
    "python to improve code readability and maintainability?\n",
    "\n",
    "Ans: \n",
    "1.Variable names should be in lowercase letters with words separated by  \n",
    "  underscores. This convention is known as snake case. \n",
    "     \n",
    "2. Avoid using keywords\n",
    "     \n",
    "3. Choose variable names that are descriptive and indicate the purpose or content of the variable. This makes the code easier to understand. "
   ]
  },
  {
   "cell_type": "code",
   "execution_count": null,
   "metadata": {
    "id": "o3KQsO93HT4A"
   },
   "outputs": [],
   "source": []
  },
  {
   "cell_type": "markdown",
   "metadata": {
    "id": "lN14hTu2HlA7"
   },
   "source": [
    "Q.4. What will happen if a keyword is used as a variable name?\n",
    "\n",
    "Ans:  If a keyword is used as a variable name it will give an error and the code wont be executed."
   ]
  },
  {
   "cell_type": "code",
   "execution_count": null,
   "metadata": {
    "id": "ja8hRBV7HoJ0"
   },
   "outputs": [],
   "source": []
  },
  {
   "cell_type": "markdown",
   "metadata": {
    "id": "ASgFSmFCHpmC"
   },
   "source": [
    "Q.5. For what purpose def keyword is used?\n",
    "\n",
    "Ans: def is used to  define functions in python"
   ]
  },
  {
   "cell_type": "code",
   "execution_count": null,
   "metadata": {
    "id": "dvdwhqyoHqXg"
   },
   "outputs": [],
   "source": []
  },
  {
   "cell_type": "markdown",
   "metadata": {
    "id": "xpS8hIafHr7i"
   },
   "source": [
    "Q.6. What is the operation of this special character ‘\\’?\n",
    "\n",
    "Ans: It is used as a continuation statement in case of multiline statements.\n"
   ]
  },
  {
   "cell_type": "code",
   "execution_count": null,
   "metadata": {
    "id": "AU00BCEdHs5B"
   },
   "outputs": [],
   "source": []
  },
  {
   "cell_type": "markdown",
   "metadata": {
    "id": "LB0tCWLBHvXr"
   },
   "source": [
    "Q.7. Give an example of the following conditions:\n",
    "\n",
    "(i) Homogeneous list  \n",
    " a = [3, 5, 16,20]\n",
    "\n",
    "(ii) Heterogeneous set\n",
    " a = {2, 5, \"hello\", True}\n",
    "\n",
    "(iii) Homogeneous tuple\n",
    " a = (\"hi\", \"tom\", \"hello\")"
   ]
  },
  {
   "cell_type": "code",
   "execution_count": 4,
   "metadata": {
    "colab": {
     "base_uri": "https://localhost:8080/"
    },
    "id": "Slc_H32HHwZp",
    "outputId": "bf22f49b-da74-4e97-9d43-0e5b752132e2"
   },
   "outputs": [
    {
     "name": "stdout",
     "output_type": "stream",
     "text": [
      "List is  [3, 5, 16, 20]\n"
     ]
    }
   ],
   "source": [
    "# Homogeneous List\n",
    "a = [3,5,16,20]\n",
    "print(\"List is \", a)"
   ]
  },
  {
   "cell_type": "code",
   "execution_count": 7,
   "metadata": {
    "colab": {
     "base_uri": "https://localhost:8080/"
    },
    "id": "ZMwYpGRGIBVR",
    "outputId": "68f129d3-4da7-4b3d-8fc3-7bbc3e012e05"
   },
   "outputs": [
    {
     "name": "stdout",
     "output_type": "stream",
     "text": [
      "Set is {'hello', True, 2, 5}\n"
     ]
    }
   ],
   "source": [
    "# Heterogeneous Set\n",
    "a = {2, 5, \"hello\", True}\n",
    "print(\"Set is\", a)"
   ]
  },
  {
   "cell_type": "code",
   "execution_count": 8,
   "metadata": {
    "colab": {
     "base_uri": "https://localhost:8080/"
    },
    "id": "bNUZKYSvIbaJ",
    "outputId": "41185c46-39a4-413e-8013-1ec8bc17dfa5"
   },
   "outputs": [
    {
     "name": "stdout",
     "output_type": "stream",
     "text": [
      "Tuples is  ('hi', 'tom', 'hello')\n"
     ]
    }
   ],
   "source": [
    "#Homogeneous tuple\n",
    "a =  (\"hi\", \"tom\", \"hello\")\n",
    "print(\"Tuples is \", a)"
   ]
  },
  {
   "cell_type": "code",
   "execution_count": null,
   "metadata": {
    "id": "lHPN5_HsIvRZ"
   },
   "outputs": [],
   "source": []
  },
  {
   "cell_type": "markdown",
   "metadata": {
    "id": "-ElS9ClcI0Xm"
   },
   "source": [
    "Q.8. Explain the mutable and immutable data types with proper explanation & examples.\n",
    "\n",
    "Ans: List is mutable datatype so the elements can be add or removed during course of the code.\n",
    "  a = [2, 4, 6, 8, 10] This is a list containing even numbers upto 10. This is mutable so later \n",
    "the list can be updated for even numbers up to 20.\n",
    "    \n",
    "  Tuples is immutable datatype. Hence the elements cannot be added or removed from the tuples.\n",
    "  a = (2, 4, 6, 8, 10). This is a tuples containing even numbers upto 10. This is immutable so later \n",
    "the tuples cannot be updated for even numbers up to 20.  "
   ]
  },
  {
   "cell_type": "code",
   "execution_count": null,
   "metadata": {
    "id": "ykwe4ExJI5GZ"
   },
   "outputs": [],
   "source": []
  },
  {
   "cell_type": "markdown",
   "metadata": {
    "id": "OAHxjCNBXLsI"
   },
   "source": [
    "9. \n"
   ]
  },
  {
   "cell_type": "code",
   "execution_count": 5,
   "metadata": {
    "colab": {
     "base_uri": "https://localhost:8080/"
    },
    "id": "khlfvEqHXM51",
    "outputId": "d1781885-0fe2-4e0c-f384-3f41f3c0334d"
   },
   "outputs": [
    {
     "name": "stdout",
     "output_type": "stream",
     "text": [
      "        * \n",
      "      * * * \n",
      "    * * * * * \n",
      "  * * * * * * * \n",
      "* * * * * * * * * \n"
     ]
    }
   ],
   "source": [
    "rows = 5\n",
    "\n",
    "k = 0\n",
    "\n",
    "for i in range(1, rows+1):\n",
    "    for space in range(1, (rows-i)+1):\n",
    "        print(end=\"  \")\n",
    "   \n",
    "    while k!=(2*i-1):\n",
    "        print(\"* \", end=\"\")\n",
    "        k += 1\n",
    "   \n",
    "    k = 0\n",
    "    print()"
   ]
  },
  {
   "cell_type": "code",
   "execution_count": 6,
   "metadata": {
    "colab": {
     "base_uri": "https://localhost:8080/"
    },
    "id": "3CbnD-rcXi6B",
    "outputId": "5f552b47-57c3-495e-c41b-610aa77b6940"
   },
   "outputs": [
    {
     "name": "stdout",
     "output_type": "stream",
     "text": [
      " | | | | | \n",
      "  | | | | \n",
      "   | | | \n",
      "    | | \n",
      "     | \n"
     ]
    }
   ],
   "source": [
    "rows = 5\n",
    "\n",
    "i = rows\n",
    "while(i >= 1):\n",
    "    j = 0\n",
    "    while(j <= rows - i):\n",
    "        print(end = ' ')\n",
    "        j = j + 1\n",
    "    k = 0\n",
    "    while(k < i):\n",
    "        print('|', end = ' ')\n",
    "        k = k + 1\n",
    "    i = i - 1\n",
    "    print()"
   ]
  },
  {
   "cell_type": "code",
   "execution_count": null,
   "metadata": {
    "id": "SYY5DW9rb7kY"
   },
   "outputs": [],
   "source": []
  }
 ],
 "metadata": {
  "colab": {
   "provenance": []
  },
  "kernelspec": {
   "display_name": "Python 3 (ipykernel)",
   "language": "python",
   "name": "python3"
  },
  "language_info": {
   "codemirror_mode": {
    "name": "ipython",
    "version": 3
   },
   "file_extension": ".py",
   "mimetype": "text/x-python",
   "name": "python",
   "nbconvert_exporter": "python",
   "pygments_lexer": "ipython3",
   "version": "3.10.9"
  }
 },
 "nbformat": 4,
 "nbformat_minor": 1
}
