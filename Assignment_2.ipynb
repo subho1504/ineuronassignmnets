{
 "cells": [
  {
   "cell_type": "code",
   "execution_count": null,
   "metadata": {
    "id": "o7E6Ob8lCWU4"
   },
   "outputs": [],
   "source": []
  },
  {
   "cell_type": "markdown",
   "metadata": {
    "id": "cSPaECfqCWxP"
   },
   "source": [
    "1.What are the two values of the Boolean data type? How do you write them?\n",
    "\n",
    "Ans:\n",
    "   The two values of the Boolean data type is : True and False\n",
    "   \n",
    "   \n",
    "   In python it is written as:\n",
    "\n",
    "   True\n",
    "   \n",
    "   False\n"
   ]
  },
  {
   "cell_type": "code",
   "execution_count": null,
   "metadata": {
    "id": "J1qir2uBCk-P"
   },
   "outputs": [],
   "source": []
  },
  {
   "cell_type": "markdown",
   "metadata": {
    "id": "GXWmOGwHC1ZX"
   },
   "source": [
    "2. What are the three different types of Boolean operators?\n",
    "\n",
    "Ans: Three different types of Boolean operator are:\n",
    "  1. OR(||)\n",
    "  2. AND (&&)\n",
    "  3. NOT (!)\n",
    "  \n"
   ]
  },
  {
   "cell_type": "code",
   "execution_count": null,
   "metadata": {
    "id": "kRX-xhCNDdr-"
   },
   "outputs": [],
   "source": []
  },
  {
   "cell_type": "markdown",
   "metadata": {
    "id": "UXmiFgbaDenY"
   },
   "source": [
    "3. Make a list of each Boolean operator's truth tables (i.e. every possible combination of Boolean\n",
    "values for the operator and what it evaluate ).\n",
    "\n",
    "Ans:\n",
    "  Logical AND\n",
    "\n",
    "  False AND False = False\n",
    "  \n",
    "  False AND True = False\n",
    "\n",
    "  True AND False = False\n",
    "\n",
    "  True AND True = True\n",
    "\n",
    "  Logical OR\n",
    "\n",
    "  False OR False = False\n",
    "\n",
    "  False OR True = True\n",
    "\n",
    "  True OR False = True\n",
    "\n",
    "  True OR True = True\n",
    "\n",
    "  Logical NOT\n",
    "\n",
    "  False = True\n",
    "\n",
    "  True = False\n",
    "\n"
   ]
  },
  {
   "cell_type": "code",
   "execution_count": null,
   "metadata": {
    "id": "_3r3j9yJD0HP"
   },
   "outputs": [],
   "source": []
  },
  {
   "cell_type": "markdown",
   "metadata": {
    "id": "s234dJFaEy7R"
   },
   "source": [
    "4. What are the values of the following expressions?\n",
    "\n",
    "Ans:\n",
    "(5 > 4) and (3 == 5)                      False\n",
    "\n",
    "not (5 > 4)                               False\n",
    "\n",
    "(5 > 4) or (3 == 5)                       True \n",
    "\n",
    "not ((5 > 4) or (3 == 5))                 False\n",
    "\n",
    "(True and True) and (True == False)       False\n",
    "\n",
    "(not False) or (not True)                 True"
   ]
  },
  {
   "cell_type": "code",
   "execution_count": null,
   "metadata": {
    "id": "hmbMMH_MG1lE"
   },
   "outputs": [],
   "source": []
  },
  {
   "cell_type": "markdown",
   "metadata": {
    "id": "puGnDyLoHA2i"
   },
   "source": [
    "5. What are the six comparison operators?\n",
    "\n",
    "Ans: Six compariosn operators are:\n",
    "\n",
    "1. ==\n",
    "2. > (greater than)\n",
    "3.  <\n",
    "4.  !=\n",
    "5. >=  *(greater than equal to)\n",
    "6.  <=\n",
    "\n"
   ]
  },
  {
   "cell_type": "code",
   "execution_count": null,
   "metadata": {
    "id": "ZqzN4B6PK2c7"
   },
   "outputs": [],
   "source": []
  },
  {
   "cell_type": "markdown",
   "metadata": {
    "id": "-1-TFhnKLGEL"
   },
   "source": [
    "6. How do you tell the difference between the equal to and assignment operators?Describe a condition and when you would use one.\n",
    "\n",
    "Ans:\n",
    "\n",
    "Equal to is '==' used as a conditional operator while assignment operator is '='\n",
    "   \n",
    "    Example '=='\n",
    "      if (a == 5):\n",
    "       \tprint(a)\n",
    " \n",
    " Here it is a conditional operator checking the valueof a is 5 or not.\n",
    "   \n",
    "    Example '='\n",
    "      a =5\n",
    "      print(a)\n",
    "\n",
    "Here it is an assignment operator where the value of a is assigned to 5."
   ]
  },
  {
   "cell_type": "code",
   "execution_count": null,
   "metadata": {
    "id": "evfDkv7tLQXx"
   },
   "outputs": [],
   "source": []
  },
  {
   "cell_type": "markdown",
   "metadata": {
    "id": "PzM8zUpzLizD"
   },
   "source": [
    "7.\n",
    "\n",
    "spam = 0\n",
    " \n",
    "1st Block\n",
    "\n",
    "if spam == 10:\n",
    "\n",
    "print('eggs')\n",
    "\n",
    "2nd Block\n",
    "\n",
    "if spam == 5:\n",
    "\n",
    "print('bacon')\n",
    "\n",
    "else:\n",
    "\n",
    "print('ham')\n",
    "\n",
    "3rd Block\n",
    "\n",
    "print('spam')\n",
    "\n",
    "print('spam')"
   ]
  },
  {
   "cell_type": "markdown",
   "metadata": {
    "id": "lVB_1yYAEz2Z"
   },
   "source": [
    "8."
   ]
  },
  {
   "cell_type": "markdown",
   "metadata": {
    "id": "riXBSD66pDic"
   },
   "source": []
  },
  {
   "cell_type": "code",
   "execution_count": 1,
   "metadata": {
    "colab": {
     "base_uri": "https://localhost:8080/"
    },
    "id": "G9eAz-meMgvK",
    "outputId": "252eef40-7a68-4632-c9c2-592c6d3a7b5c"
   },
   "outputs": [
    {
     "name": "stdout",
     "output_type": "stream",
     "text": [
      "enter the value3\n",
      "Greetings\n"
     ]
    }
   ],
   "source": [
    "spam = int (input(\"enter the value\"))\n",
    "if spam == 1 :\n",
    "    print(\"Hello\")\n",
    "elif spam == 2 : \n",
    "    print(\"Howdy\")\n",
    "else:\n",
    "    print(\"Greetings\")"
   ]
  },
  {
   "cell_type": "code",
   "execution_count": 1,
   "metadata": {
    "id": "5P3XHaJQN6oU"
   },
   "outputs": [],
   "source": [
    "\n"
   ]
  },
  {
   "cell_type": "markdown",
   "metadata": {
    "id": "UEyl3p8kpFXT"
   },
   "source": [
    "9. If your programme is stuck in an endless loop, what keys you will press?\n",
    "\n",
    "Ans: ctrl+C will terminate the loop"
   ]
  },
  {
   "cell_type": "code",
   "execution_count": null,
   "metadata": {
    "id": "hPqt-rSXpWV_"
   },
   "outputs": [],
   "source": []
  },
  {
   "cell_type": "markdown",
   "metadata": {
    "id": "hQPhUaiipWwu"
   },
   "source": [
    "10. How can you tell the difference between break and continue?\n",
    "\n",
    "Ans:\n",
    "When break statement is executed it will exit form the current loop and execute the statement following the end of the loop while when continue statement is executed it will continue to the next iteration of the loop "
   ]
  },
  {
   "cell_type": "code",
   "execution_count": null,
   "metadata": {
    "id": "xGIQCtfAsyFo"
   },
   "outputs": [],
   "source": []
  },
  {
   "cell_type": "markdown",
   "metadata": {
    "id": "t8x8REQtC8_Z"
   },
   "source": [
    "11. In a for loop, what is the difference between range(10), range(0, 10), and range(0, 10, 1)?\n",
    "\n",
    "Ans:\n",
    "In Python there is no difference in the output between range(10), range(0, 10), and range(0, 10, 1) used in for loop.\n",
    "\n",
    "In range(10) the stop point is defined which 10-1=9.\n",
    "\n",
    "\n",
    "In range(0,10) the start and stop point is defined.\n",
    "\n",
    "In range(0, 10, 1) the start, end and increment is defined.\n"
   ]
  },
  {
   "cell_type": "code",
   "execution_count": null,
   "metadata": {
    "id": "pMMP4JZzDEfo"
   },
   "outputs": [],
   "source": []
  },
  {
   "cell_type": "markdown",
   "metadata": {
    "id": "icnnt5ovDI9r"
   },
   "source": [
    "12"
   ]
  },
  {
   "cell_type": "code",
   "execution_count": 23,
   "metadata": {
    "colab": {
     "base_uri": "https://localhost:8080/"
    },
    "id": "8eXrs1BJDJdi",
    "outputId": "56380630-477e-41fe-99d7-b8ff44dfe3f8"
   },
   "outputs": [
    {
     "name": "stdout",
     "output_type": "stream",
     "text": [
      "1\n",
      "2\n",
      "3\n",
      "4\n",
      "5\n",
      "6\n",
      "7\n",
      "8\n",
      "9\n",
      "10\n"
     ]
    }
   ],
   "source": [
    "i=0\n",
    "for i in range(1, 11, 1):\n",
    "\tprint(i)"
   ]
  },
  {
   "cell_type": "code",
   "execution_count": 24,
   "metadata": {
    "colab": {
     "base_uri": "https://localhost:8080/"
    },
    "id": "Hxz6LAeqDMEJ",
    "outputId": "fd6d97c1-b622-4233-d316-d5076d89fe6b"
   },
   "outputs": [
    {
     "name": "stdout",
     "output_type": "stream",
     "text": [
      "1\n",
      "2\n",
      "3\n",
      "4\n",
      "5\n",
      "6\n",
      "7\n",
      "8\n",
      "9\n",
      "10\n"
     ]
    }
   ],
   "source": [
    "i=1\n",
    "while (i<=10):\n",
    "  print(i)\n",
    "  i=i+1\n"
   ]
  },
  {
   "cell_type": "code",
   "execution_count": null,
   "metadata": {
    "id": "RhyzYdLfDWIg"
   },
   "outputs": [],
   "source": []
  },
  {
   "cell_type": "markdown",
   "metadata": {
    "id": "7QRy5KMQEf4C"
   },
   "source": [
    "13. If you had a function named bacon() inside a module named spam, how would you call it after importing spam?\n",
    "\n",
    "Ans: spam.bacon\n"
   ]
  },
  {
   "cell_type": "code",
   "execution_count": null,
   "metadata": {
    "id": "9z0UgavhEnMh"
   },
   "outputs": [],
   "source": []
  }
 ],
 "metadata": {
  "colab": {
   "provenance": []
  },
  "kernelspec": {
   "display_name": "Python 3 (ipykernel)",
   "language": "python",
   "name": "python3"
  },
  "language_info": {
   "codemirror_mode": {
    "name": "ipython",
    "version": 3
   },
   "file_extension": ".py",
   "mimetype": "text/x-python",
   "name": "python",
   "nbconvert_exporter": "python",
   "pygments_lexer": "ipython3",
   "version": "3.10.9"
  }
 },
 "nbformat": 4,
 "nbformat_minor": 1
}
